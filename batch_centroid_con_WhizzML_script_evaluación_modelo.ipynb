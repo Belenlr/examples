{
  "nbformat": 4,
  "nbformat_minor": 0,
  "metadata": {
    "kernelspec": {
      "display_name": "Python 3",
      "language": "python",
      "name": "python3"
    },
    "language_info": {
      "codemirror_mode": {
        "name": "ipython",
        "version": 3
      },
      "file_extension": ".py",
      "mimetype": "text/x-python",
      "name": "python",
      "nbconvert_exporter": "python",
      "pygments_lexer": "ipython3",
      "version": "3.6.4"
    },
    "colab": {
      "name": "batch centroid con  WhizzML script evaluación modelo.ipynb",
      "provenance": [],
      "collapsed_sections": [],
      "include_colab_link": true
    }
  },
  "cells": [
    {
      "cell_type": "markdown",
      "metadata": {
        "id": "view-in-github",
        "colab_type": "text"
      },
      "source": [
        "<a href=\"https://colab.research.google.com/github/Belenlr/examples/blob/master/batch_centroid_con_WhizzML_script_evaluaci%C3%B3n_modelo.ipynb\" target=\"_parent\"><img src=\"https://colab.research.google.com/assets/colab-badge.svg\" alt=\"Open In Colab\"/></a>"
      ]
    },
    {
      "cell_type": "code",
      "metadata": {
        "id": "Se441zSr-8zy"
      },
      "source": [
        "!pip install bigml"
      ],
      "execution_count": null,
      "outputs": []
    },
    {
      "cell_type": "code",
      "metadata": {
        "id": "rdX6vJi7_F5u",
        "colab": {
          "base_uri": "https://localhost:8080/"
        },
        "outputId": "425b3fef-189d-4a0e-f3bb-60c653c38026"
      },
      "source": [
        "%env BIGML_USERNAME = Belenlr\n",
        "%env BIGML_API_KEY = c76736adc5fe09af520eeef2e31b200d6d26bbd2"
      ],
      "execution_count": null,
      "outputs": [
        {
          "output_type": "stream",
          "text": [
            "env: BIGML_USERNAME=Belenlr\n",
            "env: BIGML_API_KEY=c76736adc5fe09af520eeef2e31b200d6d26bbd2\n"
          ],
          "name": "stdout"
        }
      ]
    },
    {
      "cell_type": "code",
      "metadata": {
        "id": "xDuoGUG6_Apn"
      },
      "source": [
        "from bigml.api import BigML\n",
        "api = BigML()"
      ],
      "execution_count": null,
      "outputs": []
    },
    {
      "cell_type": "code",
      "metadata": {
        "id": "CoGJOoi9FU2_"
      },
      "source": [
        "api.create_source (\"s3://bigml-public/csv/diabetes.csv\")\n",
        "\n"
      ],
      "execution_count": null,
      "outputs": []
    },
    {
      "cell_type": "code",
      "metadata": {
        "colab": {
          "base_uri": "https://localhost:8080/",
          "height": 35
        },
        "id": "oO_gQkNSHovC",
        "outputId": "c1b44573-2682-4c66-dddc-66a3addb5ece"
      },
      "source": [
        "api.status(\"source/605210ffc1c0000b8d0011b8\")"
      ],
      "execution_count": null,
      "outputs": [
        {
          "output_type": "execute_result",
          "data": {
            "application/vnd.google.colaboratory.intrinsic+json": {
              "type": "string"
            },
            "text/plain": [
              "'FINISHED'"
            ]
          },
          "metadata": {
            "tags": []
          },
          "execution_count": 31
        }
      ]
    },
    {
      "cell_type": "code",
      "metadata": {
        "id": "NJJbDmAE_QnK"
      },
      "source": [
        "api.create_dataset (\"source/605210ffc1c0000b8d0011b8\", {\"name\": \"diabetes_belen_script\"})\n"
      ],
      "execution_count": null,
      "outputs": []
    },
    {
      "cell_type": "code",
      "metadata": {
        "colab": {
          "base_uri": "https://localhost:8080/",
          "height": 35
        },
        "id": "RvwmzU1OH1Gu",
        "outputId": "33153454-dcae-49ed-8937-c741837de5b7"
      },
      "source": [
        "api.status(\"dataset/605216f7cb4f96592d00586d\")"
      ],
      "execution_count": null,
      "outputs": [
        {
          "output_type": "execute_result",
          "data": {
            "application/vnd.google.colaboratory.intrinsic+json": {
              "type": "string"
            },
            "text/plain": [
              "'FINISHED'"
            ]
          },
          "metadata": {
            "tags": []
          },
          "execution_count": 34
        }
      ]
    },
    {
      "cell_type": "code",
      "metadata": {
        "id": "mCXyfhvEIQvk"
      },
      "source": [
        "dataset = \"dataset/605216f7cb4f96592d00586d\""
      ],
      "execution_count": null,
      "outputs": []
    },
    {
      "cell_type": "code",
      "metadata": {
        "id": "HN5k8-Zo-8z0",
        "colab": {
          "base_uri": "https://localhost:8080/"
        },
        "outputId": "5087904d-6c61-4b5f-c13e-c4a00a2a13fe"
      },
      "source": [
        "cluster = api.create_cluster (dataset)\n",
        "api.ok (cluster)"
      ],
      "execution_count": null,
      "outputs": [
        {
          "output_type": "execute_result",
          "data": {
            "text/plain": [
              "True"
            ]
          },
          "metadata": {
            "tags": []
          },
          "execution_count": 40
        }
      ]
    },
    {
      "cell_type": "code",
      "metadata": {
        "colab": {
          "base_uri": "https://localhost:8080/"
        },
        "id": "HF4BLmcUIgyW",
        "outputId": "b378f88c-7355-4a8c-d951-4b556b9dea03"
      },
      "source": [
        "new_dataset = api.create_batch_centroid(cluster,\n",
        "                                        dataset,\n",
        "                                        {\"output_dataset\": True,\n",
        "                                         \"all_fields\" : True})\n",
        "api.ok (new_dataset)"
      ],
      "execution_count": null,
      "outputs": [
        {
          "output_type": "execute_result",
          "data": {
            "text/plain": [
              "True"
            ]
          },
          "metadata": {
            "tags": []
          },
          "execution_count": 42
        }
      ]
    }
  ]
}