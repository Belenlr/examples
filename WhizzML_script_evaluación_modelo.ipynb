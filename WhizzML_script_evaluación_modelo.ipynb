{
  "nbformat": 4,
  "nbformat_minor": 0,
  "metadata": {
    "kernelspec": {
      "display_name": "Python 3",
      "language": "python",
      "name": "python3"
    },
    "language_info": {
      "codemirror_mode": {
        "name": "ipython",
        "version": 3
      },
      "file_extension": ".py",
      "mimetype": "text/x-python",
      "name": "python",
      "nbconvert_exporter": "python",
      "pygments_lexer": "ipython3",
      "version": "3.6.4"
    },
    "colab": {
      "name": " WhizzML script evaluación modelo.ipynb",
      "provenance": [],
      "collapsed_sections": [],
      "include_colab_link": true
    }
  },
  "cells": [
    {
      "cell_type": "markdown",
      "metadata": {
        "id": "view-in-github",
        "colab_type": "text"
      },
      "source": [
        "<a href=\"https://colab.research.google.com/github/Belenlr/examples/blob/master/WhizzML_script_evaluaci%C3%B3n_modelo.ipynb\" target=\"_parent\"><img src=\"https://colab.research.google.com/assets/colab-badge.svg\" alt=\"Open In Colab\"/></a>"
      ]
    },
    {
      "cell_type": "code",
      "metadata": {
        "id": "Se441zSr-8zy"
      },
      "source": [
        "!pip install bigml"
      ],
      "execution_count": null,
      "outputs": []
    },
    {
      "cell_type": "code",
      "metadata": {
        "id": "rdX6vJi7_F5u"
      },
      "source": [
        "# set your credentials\n",
        "%env BIGML_USERNAME=your_username\n",
        "%env BIGML_API_KEY=your_api_key"
      ],
      "execution_count": null,
      "outputs": []
    },
    {
      "cell_type": "code",
      "metadata": {
        "id": "xDuoGUG6_Apn"
      },
      "source": [
        "from bigml.api import BigML\n",
        "api = BigML()"
      ],
      "execution_count": null,
      "outputs": []
    },
    {
      "cell_type": "code",
      "metadata": {
        "id": "NJJbDmAE_QnK"
      },
      "source": [
        "# change the script ID to point to the one in your account\n",
        "SCRIPT_ID = \"script/5f9155f7440ca112b80c01a7\"\n",
        "DATA_URL = \"https://static.bigml.com/csv/diabetes.csv\""
      ],
      "execution_count": null,
      "outputs": []
    },
    {
      "cell_type": "code",
      "metadata": {
        "id": "JJdadUg4-8zy"
      },
      "source": [
        "# defining inputs\n",
        "INPUTS = [[\"source-url1\", DATA_URL]]\n",
        "execution = api.create_execution(SCRIPT_ID,\n",
        "                                 {\"name\": \"Diabetes evaluation execution\",\n",
        "                                  \"inputs\": INPUTS})\n",
        "api.ok(execution)"
      ],
      "execution_count": null,
      "outputs": []
    },
    {
      "cell_type": "code",
      "metadata": {
        "id": "KmtwzVyc-8z0"
      },
      "source": [
        "execution[\"object\"][\"execution\"][\"result\"]"
      ],
      "execution_count": null,
      "outputs": []
    },
    {
      "cell_type": "code",
      "metadata": {
        "id": "HN5k8-Zo-8z0"
      },
      "source": [
        ""
      ],
      "execution_count": null,
      "outputs": []
    }
  ]
}